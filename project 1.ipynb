{
 "cells": [
  {
   "cell_type": "code",
   "execution_count": 1,
   "metadata": {},
   "outputs": [],
   "source": [
    "import pandas as pd\n",
    "import numpy as np"
   ]
  },
  {
   "cell_type": "code",
   "execution_count": 2,
   "metadata": {},
   "outputs": [],
   "source": [
    "from pyspark.sql import SparkSession\n",
    "spark=SparkSession.builder.appName('Practice').getOrCreate()"
   ]
  },
  {
   "cell_type": "code",
   "execution_count": 3,
   "metadata": {},
   "outputs": [],
   "source": [
    "df=spark.read.option('header','true').csv('C://Users//Durgesh//Documents//Space+Missions//space_missions.csv')"
   ]
  },
  {
   "cell_type": "code",
   "execution_count": 4,
   "metadata": {},
   "outputs": [
    {
     "name": "stdout",
     "output_type": "stream",
     "text": [
      "+------------+--------------------+---------+--------+------------------+--------------+------------+-----+-------------+\n",
      "|     Company|            Location|     Date|    Time|            Rocket|       Mission|RocketStatus|Price|MissionStatus|\n",
      "+------------+--------------------+---------+--------+------------------+--------------+------------+-----+-------------+\n",
      "|   RVSN USSR|Site 1/5, Baikonu...|10/4/1957|19:28:00|    Sputnik 8K71PS|     Sputnik-1|     Retired| null|      Success|\n",
      "|   RVSN USSR|Site 1/5, Baikonu...|11/3/1957| 2:30:00|    Sputnik 8K71PS|     Sputnik-2|     Retired| null|      Success|\n",
      "|     US Navy|LC-18A, Cape Cana...|12/6/1957|16:44:00|          Vanguard|  Vanguard TV3|     Retired| null|      Failure|\n",
      "|        AMBA|LC-26A, Cape Cana...| 2/1/1958| 3:48:00|            Juno I|    Explorer 1|     Retired| null|      Success|\n",
      "|     US Navy|LC-18A, Cape Cana...| 2/5/1958| 7:33:00|          Vanguard|Vanguard TV3BU|     Retired| null|      Failure|\n",
      "|        AMBA|LC-26A, Cape Cana...| 3/5/1958|18:27:00|            Juno I|    Explorer 2|     Retired| null|      Failure|\n",
      "|     US Navy|LC-18A, Cape Cana...|3/17/1958|12:15:00|          Vanguard|    Vanguard 1|     Retired| null|      Success|\n",
      "|        AMBA|LC-5, Cape Canave...|3/26/1958|17:38:00|            Juno I|    Explorer 3|     Retired| null|      Success|\n",
      "|   RVSN USSR|Site 1/5, Baikonu...|4/27/1958| 9:01:00|      Sputnik 8A91|  Sputnik-3 #1|     Retired| null|      Failure|\n",
      "|     US Navy|LC-18A, Cape Cana...|4/28/1958| 2:53:00|          Vanguard|  Vanguard TV5|     Retired| null|      Failure|\n",
      "|   RVSN USSR|Site 1/5, Baikonu...|5/15/1958| 7:12:00|      Sputnik 8A91|  Sputnik-3 #2|     Retired| null|      Success|\n",
      "|     US Navy|LC-18A, Cape Cana...|5/28/1958| 3:46:00|          Vanguard|Vanguard SLV-1|     Retired| null|      Failure|\n",
      "|     US Navy|LC-18A, Cape Cana...|6/26/1958| 5:00:00|          Vanguard|Vanguard SLV-2|     Retired| null|      Failure|\n",
      "|     US Navy|Douglas F4D Skyra...|7/25/1958|    null|NOTS-EV-1 Pilot II|  Pilot-1 (D1)|     Retired| null|      Failure|\n",
      "|        AMBA|LC-5, Cape Canave...|7/26/1958|15:00:00|            Juno I|    Explorer 4|     Retired| null|      Success|\n",
      "|     US Navy|Douglas F4D Skyra...|8/12/1958|    null|NOTS-EV-1 Pilot II|  Pilot-2 (D2)|     Retired| null|      Failure|\n",
      "|US Air Force|SLC-17A, Cape Can...|8/17/1958|12:18:00| Thor-DM 18 Able I|     Pioneer 0|     Retired| null|      Failure|\n",
      "|     US Navy|Douglas F4D Skyra...|8/22/1958|    null|NOTS-EV-1 Pilot II|  Pilot-3 (D3)|     Retired| null|      Failure|\n",
      "|        AMBA|LC-5, Cape Canave...|8/24/1958| 6:17:00|            Juno I|    Explorer 5|     Retired| null|      Failure|\n",
      "|     US Navy|Douglas F4D Skyra...|8/25/1958|    null|NOTS-EV-1 Pilot II|  Pilot-4 (R1)|     Retired| null|      Failure|\n",
      "+------------+--------------------+---------+--------+------------------+--------------+------------+-----+-------------+\n",
      "only showing top 20 rows\n",
      "\n"
     ]
    }
   ],
   "source": [
    "df.show()"
   ]
  },
  {
   "cell_type": "code",
   "execution_count": 5,
   "metadata": {},
   "outputs": [
    {
     "data": {
      "text/plain": [
       "DataFrame[summary: string, Company: string, Location: string, Date: string, Time: string, Rocket: string, Mission: string, RocketStatus: string, Price: string, MissionStatus: string]"
      ]
     },
     "execution_count": 5,
     "metadata": {},
     "output_type": "execute_result"
    }
   ],
   "source": [
    "df.describe()"
   ]
  },
  {
   "cell_type": "code",
   "execution_count": 6,
   "metadata": {},
   "outputs": [
    {
     "name": "stdout",
     "output_type": "stream",
     "text": [
      "+-------+--------+----+----+------+-------+------------+-----+-------------+\n",
      "|Company|Location|Date|Time|Rocket|Mission|RocketStatus|Price|MissionStatus|\n",
      "+-------+--------+----+----+------+-------+------------+-----+-------------+\n",
      "|      0|       0|   0| 127|     0|      0|           0| 3365|            0|\n",
      "+-------+--------+----+----+------+-------+------------+-----+-------------+\n",
      "\n"
     ]
    }
   ],
   "source": [
    "from pyspark.sql.functions import isnan, when, count, col\n",
    "df.select([count(when(isnan(c) | col(c).isNull(), c)).alias(c) for c in df.columns]).show()"
   ]
  },
  {
   "cell_type": "code",
   "execution_count": 7,
   "metadata": {},
   "outputs": [
    {
     "data": {
      "text/plain": [
       "4630"
      ]
     },
     "execution_count": 7,
     "metadata": {},
     "output_type": "execute_result"
    }
   ],
   "source": [
    "df.count()"
   ]
  },
  {
   "cell_type": "markdown",
   "metadata": {},
   "source": [
    "- In the following analysis we found that price value is null only for RocketStatus having Status as Retired"
   ]
  },
  {
   "cell_type": "code",
   "execution_count": 22,
   "metadata": {},
   "outputs": [
    {
     "name": "stdout",
     "output_type": "stream",
     "text": [
      "+------------+-----+\n",
      "|RocketStatus|Price|\n",
      "+------------+-----+\n",
      "|     Retired| null|\n",
      "|     Retired| null|\n",
      "|     Retired| null|\n",
      "|     Retired| null|\n",
      "|     Retired| null|\n",
      "|     Retired| null|\n",
      "|     Retired| null|\n",
      "|     Retired| null|\n",
      "|     Retired| null|\n",
      "|     Retired| null|\n",
      "|     Retired| null|\n",
      "|     Retired| null|\n",
      "|     Retired| null|\n",
      "|     Retired| null|\n",
      "|     Retired| null|\n",
      "|     Retired| null|\n",
      "|     Retired| null|\n",
      "|     Retired| null|\n",
      "|     Retired| null|\n",
      "|     Retired| null|\n",
      "+------------+-----+\n",
      "only showing top 20 rows\n",
      "\n"
     ]
    }
   ],
   "source": [
    "df.select(col(\"RocketStatus\"),col(\"Price\")).filter(df.RocketStatus == 'Retired').show()"
   ]
  },
  {
   "cell_type": "markdown",
   "metadata": {},
   "source": [
    "- As quantity of null value is much higher so it will not contribute more to analysis so we will remove column Price"
   ]
  },
  {
   "cell_type": "code",
   "execution_count": 23,
   "metadata": {},
   "outputs": [],
   "source": [
    "df=df.drop(col(\"Price\"))"
   ]
  },
  {
   "cell_type": "code",
   "execution_count": 24,
   "metadata": {},
   "outputs": [
    {
     "name": "stdout",
     "output_type": "stream",
     "text": [
      "+------------+--------------------+---------+--------+------------------+--------------+------------+-------------+\n",
      "|     Company|            Location|     Date|    Time|            Rocket|       Mission|RocketStatus|MissionStatus|\n",
      "+------------+--------------------+---------+--------+------------------+--------------+------------+-------------+\n",
      "|   RVSN USSR|Site 1/5, Baikonu...|10/4/1957|19:28:00|    Sputnik 8K71PS|     Sputnik-1|     Retired|      Success|\n",
      "|   RVSN USSR|Site 1/5, Baikonu...|11/3/1957| 2:30:00|    Sputnik 8K71PS|     Sputnik-2|     Retired|      Success|\n",
      "|     US Navy|LC-18A, Cape Cana...|12/6/1957|16:44:00|          Vanguard|  Vanguard TV3|     Retired|      Failure|\n",
      "|        AMBA|LC-26A, Cape Cana...| 2/1/1958| 3:48:00|            Juno I|    Explorer 1|     Retired|      Success|\n",
      "|     US Navy|LC-18A, Cape Cana...| 2/5/1958| 7:33:00|          Vanguard|Vanguard TV3BU|     Retired|      Failure|\n",
      "|        AMBA|LC-26A, Cape Cana...| 3/5/1958|18:27:00|            Juno I|    Explorer 2|     Retired|      Failure|\n",
      "|     US Navy|LC-18A, Cape Cana...|3/17/1958|12:15:00|          Vanguard|    Vanguard 1|     Retired|      Success|\n",
      "|        AMBA|LC-5, Cape Canave...|3/26/1958|17:38:00|            Juno I|    Explorer 3|     Retired|      Success|\n",
      "|   RVSN USSR|Site 1/5, Baikonu...|4/27/1958| 9:01:00|      Sputnik 8A91|  Sputnik-3 #1|     Retired|      Failure|\n",
      "|     US Navy|LC-18A, Cape Cana...|4/28/1958| 2:53:00|          Vanguard|  Vanguard TV5|     Retired|      Failure|\n",
      "|   RVSN USSR|Site 1/5, Baikonu...|5/15/1958| 7:12:00|      Sputnik 8A91|  Sputnik-3 #2|     Retired|      Success|\n",
      "|     US Navy|LC-18A, Cape Cana...|5/28/1958| 3:46:00|          Vanguard|Vanguard SLV-1|     Retired|      Failure|\n",
      "|     US Navy|LC-18A, Cape Cana...|6/26/1958| 5:00:00|          Vanguard|Vanguard SLV-2|     Retired|      Failure|\n",
      "|     US Navy|Douglas F4D Skyra...|7/25/1958|    null|NOTS-EV-1 Pilot II|  Pilot-1 (D1)|     Retired|      Failure|\n",
      "|        AMBA|LC-5, Cape Canave...|7/26/1958|15:00:00|            Juno I|    Explorer 4|     Retired|      Success|\n",
      "|     US Navy|Douglas F4D Skyra...|8/12/1958|    null|NOTS-EV-1 Pilot II|  Pilot-2 (D2)|     Retired|      Failure|\n",
      "|US Air Force|SLC-17A, Cape Can...|8/17/1958|12:18:00| Thor-DM 18 Able I|     Pioneer 0|     Retired|      Failure|\n",
      "|     US Navy|Douglas F4D Skyra...|8/22/1958|    null|NOTS-EV-1 Pilot II|  Pilot-3 (D3)|     Retired|      Failure|\n",
      "|        AMBA|LC-5, Cape Canave...|8/24/1958| 6:17:00|            Juno I|    Explorer 5|     Retired|      Failure|\n",
      "|     US Navy|Douglas F4D Skyra...|8/25/1958|    null|NOTS-EV-1 Pilot II|  Pilot-4 (R1)|     Retired|      Failure|\n",
      "+------------+--------------------+---------+--------+------------------+--------------+------------+-------------+\n",
      "only showing top 20 rows\n",
      "\n"
     ]
    }
   ],
   "source": [
    "df.show()"
   ]
  },
  {
   "cell_type": "markdown",
   "metadata": {},
   "source": [
    "- Now we will take action on null values of Time Column"
   ]
  },
  {
   "cell_type": "code",
   "execution_count": 41,
   "metadata": {},
   "outputs": [
    {
     "name": "stdout",
     "output_type": "stream",
     "text": [
      "+----+--------------------+\n",
      "|Time|             Mission|\n",
      "+----+--------------------+\n",
      "|null|        Pilot-1 (D1)|\n",
      "|null|        Pilot-2 (D2)|\n",
      "|null|        Pilot-3 (D3)|\n",
      "|null|        Pilot-4 (R1)|\n",
      "|null|        Pilot-5 (R2)|\n",
      "|null|         Pilot-6 (R3|\n",
      "|null|   E-3 n†­3 (Luna-3)|\n",
      "|null|DSAP-1 F1 (Progra...|\n",
      "|null|DSAP-1 F4 (Progra...|\n",
      "|null|            DS-MT #1|\n",
      "|null|             Midas 8|\n",
      "|null|      Elektron 3 & 4|\n",
      "|null|    KH-7 Gambit 4012|\n",
      "|null|   Strela-1 #4, 5, 6|\n",
      "|null|             DS-2 #2|\n",
      "|null|           DS-K40 #1|\n",
      "|null|           DS-K40 #2|\n",
      "|null|               Osumi|\n",
      "|null|               Osumi|\n",
      "|null|               Osumi|\n",
      "+----+--------------------+\n",
      "only showing top 20 rows\n",
      "\n"
     ]
    }
   ],
   "source": [
    "df.select(col(\"Time\"),col(\"Mission\")).filter(df.Time.isNull()).show()"
   ]
  },
  {
   "cell_type": "markdown",
   "metadata": {},
   "source": [
    "- The time values are null and we are not able to determine exact reason why value for Time column is null . Thus, we will try to put arbitrary value which does not exist in Time column\n",
    "- I have considered arbitrary value as 1:13:00 because 1:13:00 value is not present Time column"
   ]
  },
  {
   "cell_type": "code",
   "execution_count": 84,
   "metadata": {},
   "outputs": [
    {
     "name": "stdout",
     "output_type": "stream",
     "text": [
      "+------------+--------------------+---------+--------+------------------+--------------+------------+-------------+\n",
      "|     Company|            Location|     Date|    Time|            Rocket|       Mission|RocketStatus|MissionStatus|\n",
      "+------------+--------------------+---------+--------+------------------+--------------+------------+-------------+\n",
      "|   RVSN USSR|Site 1/5, Baikonu...|10/4/1957|19:28:00|    Sputnik 8K71PS|     Sputnik-1|     Retired|      Success|\n",
      "|   RVSN USSR|Site 1/5, Baikonu...|11/3/1957| 2:30:00|    Sputnik 8K71PS|     Sputnik-2|     Retired|      Success|\n",
      "|     US Navy|LC-18A, Cape Cana...|12/6/1957|16:44:00|          Vanguard|  Vanguard TV3|     Retired|      Failure|\n",
      "|        AMBA|LC-26A, Cape Cana...| 2/1/1958| 3:48:00|            Juno I|    Explorer 1|     Retired|      Success|\n",
      "|     US Navy|LC-18A, Cape Cana...| 2/5/1958| 7:33:00|          Vanguard|Vanguard TV3BU|     Retired|      Failure|\n",
      "|        AMBA|LC-26A, Cape Cana...| 3/5/1958|18:27:00|            Juno I|    Explorer 2|     Retired|      Failure|\n",
      "|     US Navy|LC-18A, Cape Cana...|3/17/1958|12:15:00|          Vanguard|    Vanguard 1|     Retired|      Success|\n",
      "|        AMBA|LC-5, Cape Canave...|3/26/1958|17:38:00|            Juno I|    Explorer 3|     Retired|      Success|\n",
      "|   RVSN USSR|Site 1/5, Baikonu...|4/27/1958| 9:01:00|      Sputnik 8A91|  Sputnik-3 #1|     Retired|      Failure|\n",
      "|     US Navy|LC-18A, Cape Cana...|4/28/1958| 2:53:00|          Vanguard|  Vanguard TV5|     Retired|      Failure|\n",
      "|   RVSN USSR|Site 1/5, Baikonu...|5/15/1958| 7:12:00|      Sputnik 8A91|  Sputnik-3 #2|     Retired|      Success|\n",
      "|     US Navy|LC-18A, Cape Cana...|5/28/1958| 3:46:00|          Vanguard|Vanguard SLV-1|     Retired|      Failure|\n",
      "|     US Navy|LC-18A, Cape Cana...|6/26/1958| 5:00:00|          Vanguard|Vanguard SLV-2|     Retired|      Failure|\n",
      "|     US Navy|Douglas F4D Skyra...|7/25/1958| 1:13:00|NOTS-EV-1 Pilot II|  Pilot-1 (D1)|     Retired|      Failure|\n",
      "|        AMBA|LC-5, Cape Canave...|7/26/1958|15:00:00|            Juno I|    Explorer 4|     Retired|      Success|\n",
      "|     US Navy|Douglas F4D Skyra...|8/12/1958| 1:13:00|NOTS-EV-1 Pilot II|  Pilot-2 (D2)|     Retired|      Failure|\n",
      "|US Air Force|SLC-17A, Cape Can...|8/17/1958|12:18:00| Thor-DM 18 Able I|     Pioneer 0|     Retired|      Failure|\n",
      "|     US Navy|Douglas F4D Skyra...|8/22/1958| 1:13:00|NOTS-EV-1 Pilot II|  Pilot-3 (D3)|     Retired|      Failure|\n",
      "|        AMBA|LC-5, Cape Canave...|8/24/1958| 6:17:00|            Juno I|    Explorer 5|     Retired|      Failure|\n",
      "|     US Navy|Douglas F4D Skyra...|8/25/1958| 1:13:00|NOTS-EV-1 Pilot II|  Pilot-4 (R1)|     Retired|      Failure|\n",
      "+------------+--------------------+---------+--------+------------------+--------------+------------+-------------+\n",
      "only showing top 20 rows\n",
      "\n"
     ]
    }
   ],
   "source": [
    "df=df.na.fill(value=\"1:13:00\",subset=['Time']).show()"
   ]
  },
  {
   "cell_type": "code",
   "execution_count": null,
   "metadata": {},
   "outputs": [],
   "source": []
  }
 ],
 "metadata": {
  "kernelspec": {
   "display_name": "Python 3",
   "language": "python",
   "name": "python3"
  },
  "language_info": {
   "codemirror_mode": {
    "name": "ipython",
    "version": 3
   },
   "file_extension": ".py",
   "mimetype": "text/x-python",
   "name": "python",
   "nbconvert_exporter": "python",
   "pygments_lexer": "ipython3",
   "version": "3.8.3"
  }
 },
 "nbformat": 4,
 "nbformat_minor": 4
}
